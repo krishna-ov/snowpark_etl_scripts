{
 "cells": [
  {
   "cell_type": "code",
   "execution_count": null,
   "metadata": {},
   "outputs": [],
   "source": [
    "# Import libraries\n",
    "\n",
    "import pandas as pd\n",
    "\n",
    "from snowflake.snowpark import Session\n",
    "from snowflake.snowpark.functions import col"
   ]
  },
  {
   "cell_type": "code",
   "execution_count": null,
   "metadata": {},
   "outputs": [],
   "source": [
    "# Connection Parameters to establish Snowflake connection\n",
    "connection_parameters = {\n",
    "    \"user\":\"****\",\n",
    "    \"password\":\"****\",\n",
    "    \"account\":\"****\",\n",
    "    \"warehouse\":\"****\",\n",
    "    \"database\":\"****\",\n",
    "    \"schema\":\"****\",\n",
    "    \"role\":\"****\"\n",
    "}"
   ]
  },
  {
   "cell_type": "code",
   "execution_count": null,
   "metadata": {},
   "outputs": [],
   "source": [
    "# Create a snowflake session\n",
    "session = Session.builder.configs(connection_parameters).create()"
   ]
  },
  {
   "cell_type": "code",
   "execution_count": null,
   "metadata": {},
   "outputs": [],
   "source": [
    "# Read the csv file using pandas read_csv method and convert it into snowflake dataframe using create_dataframe method\n",
    "csv_dataframe = pd.read_csv('<path_to_csv_file>')\n",
    "sf_dataframe = session.create_dataframe(csv_dataframe)"
   ]
  },
  {
   "cell_type": "code",
   "execution_count": null,
   "metadata": {},
   "outputs": [],
   "source": [
    "# Upload the snowflake dataframe into a snowflake table\n",
    "sf_dataframe.write.mode('overwrite').saveAsTable('<table_name>')"
   ]
  },
  {
   "cell_type": "code",
   "execution_count": null,
   "metadata": {},
   "outputs": [],
   "source": [
    "# Close session\n",
    "session.close()"
   ]
  }
 ],
 "metadata": {
  "language_info": {
   "name": "python"
  }
 },
 "nbformat": 4,
 "nbformat_minor": 2
}
